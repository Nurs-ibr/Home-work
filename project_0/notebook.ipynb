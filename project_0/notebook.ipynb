{
 "cells": [
  {
   "cell_type": "markdown",
   "id": "9608b862",
   "metadata": {},
   "source": [
    "Угадай число - игра на Python"
   ]
  },
  {
   "cell_type": "code",
   "execution_count": 1,
   "id": "d1c7a2ee",
   "metadata": {},
   "outputs": [],
   "source": [
    "from hw_game import guess_number, score_game"
   ]
  },
  {
   "cell_type": "markdown",
   "id": "b389a051",
   "metadata": {},
   "source": [
    "Программа угадывает загаданное компьютером число за минимальное количество попыток."
   ]
  },
  {
   "cell_type": "code",
   "execution_count": 2,
   "id": "648a48e1",
   "metadata": {},
   "outputs": [
    {
     "name": "stdout",
     "output_type": "stream",
     "text": [
      "Ваш алгоритм угадывает число в среднем за: 5 попыток\n"
     ]
    },
    {
     "data": {
      "text/plain": [
       "5"
      ]
     },
     "execution_count": 2,
     "metadata": {},
     "output_type": "execute_result"
    }
   ],
   "source": [
    "score_game(guess_number)"
   ]
  }
 ],
 "metadata": {
  "kernelspec": {
   "display_name": "Python 3",
   "language": "python",
   "name": "python3"
  },
  "language_info": {
   "codemirror_mode": {
    "name": "ipython",
    "version": 3
   },
   "file_extension": ".py",
   "mimetype": "text/x-python",
   "name": "python",
   "nbconvert_exporter": "python",
   "pygments_lexer": "ipython3",
   "version": "3.13.5"
  }
 },
 "nbformat": 4,
 "nbformat_minor": 5
}
